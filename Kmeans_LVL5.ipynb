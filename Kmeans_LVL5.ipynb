{
 "cells": [
  {
   "cell_type": "code",
   "execution_count": 21,
   "metadata": {},
   "outputs": [],
   "source": [
    "%matplotlib inline\n",
    "import matplotlib.pyplot as plt\n",
    "import seaborn as sns; sns.set()  # for plot styling\n",
    "import numpy as np"
   ]
  },
  {
   "cell_type": "code",
   "execution_count": 22,
   "metadata": {},
   "outputs": [
    {
     "data": {
      "text/html": [
       "<div>\n",
       "<style scoped>\n",
       "    .dataframe tbody tr th:only-of-type {\n",
       "        vertical-align: middle;\n",
       "    }\n",
       "\n",
       "    .dataframe tbody tr th {\n",
       "        vertical-align: top;\n",
       "    }\n",
       "\n",
       "    .dataframe thead th {\n",
       "        text-align: right;\n",
       "    }\n",
       "</style>\n",
       "<table border=\"1\" class=\"dataframe\">\n",
       "  <thead>\n",
       "    <tr style=\"text-align: right;\">\n",
       "      <th></th>\n",
       "      <th>Chomper_Kill</th>\n",
       "      <th>Spitter_Kill</th>\n",
       "      <th>Spike_Hit</th>\n",
       "      <th>Spitter_Hit</th>\n",
       "      <th>Chomper_Hit</th>\n",
       "      <th>Death_Fall</th>\n",
       "      <th>Death_Acid</th>\n",
       "      <th>Column_Des</th>\n",
       "      <th>Box_Pushed</th>\n",
       "      <th>Key1_Pickup</th>\n",
       "      <th>Key2_Pickup</th>\n",
       "      <th>Key3_Pickup</th>\n",
       "      <th>Health_Pickup</th>\n",
       "      <th>Switch_Enabled</th>\n",
       "      <th>Quiz_Start</th>\n",
       "      <th>Correct_Ans</th>\n",
       "      <th>Wrong_Ans</th>\n",
       "    </tr>\n",
       "  </thead>\n",
       "  <tbody>\n",
       "    <tr>\n",
       "      <th>0</th>\n",
       "      <td>6</td>\n",
       "      <td>0</td>\n",
       "      <td>0</td>\n",
       "      <td>2</td>\n",
       "      <td>0</td>\n",
       "      <td>1</td>\n",
       "      <td>0</td>\n",
       "      <td>0</td>\n",
       "      <td>0</td>\n",
       "      <td>1</td>\n",
       "      <td>1</td>\n",
       "      <td>1</td>\n",
       "      <td>1</td>\n",
       "      <td>0</td>\n",
       "      <td>1</td>\n",
       "      <td>3</td>\n",
       "      <td>0</td>\n",
       "    </tr>\n",
       "    <tr>\n",
       "      <th>1</th>\n",
       "      <td>6</td>\n",
       "      <td>0</td>\n",
       "      <td>0</td>\n",
       "      <td>1</td>\n",
       "      <td>1</td>\n",
       "      <td>0</td>\n",
       "      <td>0</td>\n",
       "      <td>0</td>\n",
       "      <td>0</td>\n",
       "      <td>1</td>\n",
       "      <td>1</td>\n",
       "      <td>1</td>\n",
       "      <td>2</td>\n",
       "      <td>0</td>\n",
       "      <td>1</td>\n",
       "      <td>3</td>\n",
       "      <td>0</td>\n",
       "    </tr>\n",
       "    <tr>\n",
       "      <th>2</th>\n",
       "      <td>5</td>\n",
       "      <td>0</td>\n",
       "      <td>0</td>\n",
       "      <td>0</td>\n",
       "      <td>2</td>\n",
       "      <td>0</td>\n",
       "      <td>0</td>\n",
       "      <td>0</td>\n",
       "      <td>0</td>\n",
       "      <td>1</td>\n",
       "      <td>1</td>\n",
       "      <td>1</td>\n",
       "      <td>1</td>\n",
       "      <td>0</td>\n",
       "      <td>1</td>\n",
       "      <td>3</td>\n",
       "      <td>1</td>\n",
       "    </tr>\n",
       "    <tr>\n",
       "      <th>3</th>\n",
       "      <td>4</td>\n",
       "      <td>0</td>\n",
       "      <td>0</td>\n",
       "      <td>2</td>\n",
       "      <td>1</td>\n",
       "      <td>1</td>\n",
       "      <td>0</td>\n",
       "      <td>0</td>\n",
       "      <td>0</td>\n",
       "      <td>1</td>\n",
       "      <td>1</td>\n",
       "      <td>0</td>\n",
       "      <td>1</td>\n",
       "      <td>0</td>\n",
       "      <td>0</td>\n",
       "      <td>0</td>\n",
       "      <td>0</td>\n",
       "    </tr>\n",
       "    <tr>\n",
       "      <th>4</th>\n",
       "      <td>6</td>\n",
       "      <td>0</td>\n",
       "      <td>0</td>\n",
       "      <td>1</td>\n",
       "      <td>0</td>\n",
       "      <td>0</td>\n",
       "      <td>1</td>\n",
       "      <td>0</td>\n",
       "      <td>0</td>\n",
       "      <td>1</td>\n",
       "      <td>1</td>\n",
       "      <td>1</td>\n",
       "      <td>1</td>\n",
       "      <td>0</td>\n",
       "      <td>1</td>\n",
       "      <td>3</td>\n",
       "      <td>0</td>\n",
       "    </tr>\n",
       "  </tbody>\n",
       "</table>\n",
       "</div>"
      ],
      "text/plain": [
       "   Chomper_Kill  Spitter_Kill  Spike_Hit  Spitter_Hit  Chomper_Hit  \\\n",
       "0             6             0          0            2            0   \n",
       "1             6             0          0            1            1   \n",
       "2             5             0          0            0            2   \n",
       "3             4             0          0            2            1   \n",
       "4             6             0          0            1            0   \n",
       "\n",
       "   Death_Fall  Death_Acid  Column_Des  Box_Pushed   Key1_Pickup  Key2_Pickup  \\\n",
       "0           1           0           0            0            1            1   \n",
       "1           0           0           0            0            1            1   \n",
       "2           0           0           0            0            1            1   \n",
       "3           1           0           0            0            1            1   \n",
       "4           0           1           0            0            1            1   \n",
       "\n",
       "   Key3_Pickup  Health_Pickup  Switch_Enabled  Quiz_Start  Correct_Ans  \\\n",
       "0            1              1               0           1            3   \n",
       "1            1              2               0           1            3   \n",
       "2            1              1               0           1            3   \n",
       "3            0              1               0           0            0   \n",
       "4            1              1               0           1            3   \n",
       "\n",
       "   Wrong_Ans  \n",
       "0          0  \n",
       "1          0  \n",
       "2          1  \n",
       "3          0  \n",
       "4          0  "
      ]
     },
     "execution_count": 22,
     "metadata": {},
     "output_type": "execute_result"
    }
   ],
   "source": [
    "import pandas as pd \n",
    "# Read data from file 'filename.csv' \n",
    "# (in the same directory that your python process is based)\n",
    "# Control delimiters, rows, column names with read_csv (see later) \n",
    "dataset = pd.read_csv(\"LVL5 (MEDIUM).csv\",header=0, delimiter=';') \n",
    "dataset.head()"
   ]
  },
  {
   "cell_type": "code",
   "execution_count": 23,
   "metadata": {},
   "outputs": [
    {
     "data": {
      "text/plain": [
       "Index([u'Chomper_Kill', u'Spitter_Kill', u'Spike_Hit', u'Spitter_Hit',\n",
       "       u'Chomper_Hit', u'Death_Fall', u'Death_Acid', u'Column_Des',\n",
       "       u'Box_Pushed ', u'Key1_Pickup', u'Key2_Pickup', u'Key3_Pickup',\n",
       "       u'Health_Pickup', u'Switch_Enabled', u'Quiz_Start', u'Correct_Ans',\n",
       "       u'Wrong_Ans'],\n",
       "      dtype='object')"
      ]
     },
     "execution_count": 23,
     "metadata": {},
     "output_type": "execute_result"
    }
   ],
   "source": [
    "# selection des colonnes à prendre en compte dans l'ACP\n",
    "from sklearn import preprocessing\n",
    "X_dataset = dataset[[\"Chomper_Kill\",\"Spitter_Hit\",\"Death_Fall\",\"Death_Acid\",\"Chomper_Hit\",\"Key1_Pickup\",\"Key2_Pickup\",\"Health_Pickup\",\"Key3_Pickup\",\"Quiz_Start\",\"Correct_Ans\",\"Wrong_Ans\"]]\n",
    "features = dataset.columns\n",
    "# normalize the data attributes\n",
    "normalized_d = preprocessing.normalize(X_dataset)\n",
    "standardized_X = preprocessing.scale(normalized_d)\n",
    "features"
   ]
  },
  {
   "cell_type": "code",
   "execution_count": 24,
   "metadata": {},
   "outputs": [
    {
     "name": "stdout",
     "output_type": "stream",
     "text": [
      "[[0.80903983 0.26967994 0.13483997 ... 0.13483997 0.40451992 0.        ]\n",
      " [0.80903983 0.13483997 0.         ... 0.13483997 0.40451992 0.        ]\n",
      " [0.75377836 0.         0.         ... 0.15075567 0.45226702 0.15075567]\n",
      " ...\n",
      " [0.81649658 0.         0.         ... 0.13608276 0.40824829 0.        ]\n",
      " [0.80178373 0.13363062 0.         ... 0.13363062 0.40089186 0.        ]\n",
      " [0.79471941 0.26490647 0.         ... 0.13245324 0.39735971 0.        ]]\n"
     ]
    }
   ],
   "source": [
    "print(normalized_d)\n",
    "# Centrage et Réduction\n",
    "std_scale = preprocessing.StandardScaler().fit(standardized_X)\n",
    "X_scaled = std_scale.transform(standardized_X)"
   ]
  },
  {
   "cell_type": "code",
   "execution_count": 25,
   "metadata": {},
   "outputs": [
    {
     "name": "stdout",
     "output_type": "stream",
     "text": [
      "[[-1.43513161  1.3640293   0.85610029 -0.06384026  1.490307    0.92587708\n",
      "  -0.5882589   0.37027214 -2.27414089 -1.87866797 -2.45152111 -0.52769948]\n",
      " [ 0.2050188  -0.19486133 -0.12230004  0.00912004 -0.212901   -0.13226815\n",
      "   0.08403699 -0.05289602  0.32487727  0.26838114  0.3502173   0.07538564]]\n",
      "[1 1 1 0 1 1 1 1 1 1 0 0 1 1 1 1 1 0 1 1 1 1 1 0 1 0 1 1 1 1 1 1 0 1 1 1 1\n",
      " 1 1 1 1 1 1 1 1 1 1 1 1 1 1 1 1 1 1 1 0 1 1 1 1 1 1 1 1 1 1 1 1 1 0 1 1 0\n",
      " 0 1 1 1 1 1 1 1 1 0 1 1 1 1 1 1 1 1 1 1 1 1]\n"
     ]
    }
   ],
   "source": [
    "from sklearn.cluster import KMeans\n",
    "kmeans = KMeans(2,'k-means++',1000,10,0)\n",
    "kmeans.fit(X_scaled)\n",
    "print(kmeans.cluster_centers_)\n",
    "print(kmeans.labels_)"
   ]
  },
  {
   "cell_type": "code",
   "execution_count": 26,
   "metadata": {},
   "outputs": [
    {
     "data": {
      "text/plain": [
       "<matplotlib.collections.PathCollection at 0xe442198>"
      ]
     },
     "execution_count": 26,
     "metadata": {},
     "output_type": "execute_result"
    },
    {
     "data": {
      "image/png": "[encoded data removed]",
      "text/plain": [
       "<Figure size 432x288 with 1 Axes>"
      ]
     },
     "metadata": {},
     "output_type": "display_data"
    }
   ],
   "source": [
    "plt.scatter(X_scaled[:,0],X_scaled[:,1], c=kmeans.labels_, cmap='rainbow')\n",
    "plt.scatter(kmeans.cluster_centers_[:,0] ,kmeans.cluster_centers_[:,1], color='black')"
   ]
  },
  {
   "cell_type": "code",
   "execution_count": 11,
   "metadata": {},
   "outputs": [
    {
     "name": "stdout",
     "output_type": "stream",
     "text": [
      "                Chomper_Kill  Spitter_Kill  Spike_Hit  Spitter_Hit  \\\n",
      "Chomper_Kill        1.000000           NaN        NaN    -0.215320   \n",
      "Spitter_Kill             NaN           NaN        NaN          NaN   \n",
      "Spike_Hit                NaN           NaN        NaN          NaN   \n",
      "Spitter_Hit        -0.215320           NaN        NaN     1.000000   \n",
      "Chomper_Hit         0.122624           NaN        NaN    -0.164818   \n",
      "Death_Fall          0.082214           NaN        NaN     0.012598   \n",
      "Death_Acid          0.100238           NaN        NaN    -0.125986   \n",
      "Column_Des               NaN           NaN        NaN          NaN   \n",
      "Box_Pushed               NaN           NaN        NaN          NaN   \n",
      "Key1_Pickup         0.084411           NaN        NaN     0.264766   \n",
      "Key2_Pickup         0.311774           NaN        NaN     0.068425   \n",
      "Key3_Pickup         0.351610           NaN        NaN    -0.031759   \n",
      "Health_Pickup       0.103911           NaN        NaN     0.308110   \n",
      "Switch_Enabled           NaN           NaN        NaN          NaN   \n",
      "Quiz_Start          0.447086           NaN        NaN    -0.147544   \n",
      "Correct_Ans         0.447086           NaN        NaN    -0.147544   \n",
      "Wrong_Ans           0.152935           NaN        NaN     0.048323   \n",
      "\n",
      "                Chomper_Hit  Death_Fall  Death_Acid  Column_Des  Box_Pushed   \\\n",
      "Chomper_Kill       0.122624    0.082214    0.100238         NaN          NaN   \n",
      "Spitter_Kill            NaN         NaN         NaN         NaN          NaN   \n",
      "Spike_Hit               NaN         NaN         NaN         NaN          NaN   \n",
      "Spitter_Hit       -0.164818    0.012598   -0.125986         NaN          NaN   \n",
      "Chomper_Hit        1.000000   -0.223207    0.084028         NaN          NaN   \n",
      "Death_Fall        -0.223207    1.000000   -0.150414         NaN          NaN   \n",
      "Death_Acid         0.084028   -0.150414    1.000000         NaN          NaN   \n",
      "Column_Des              NaN         NaN         NaN         NaN          NaN   \n",
      "Box_Pushed              NaN         NaN         NaN         NaN          NaN   \n",
      "Key1_Pickup        0.150843    0.017437    0.088649         NaN          NaN   \n",
      "Key2_Pickup        0.182759    0.034679    0.094935         NaN          NaN   \n",
      "Key3_Pickup        0.290080   -0.024681    0.164086         NaN          NaN   \n",
      "Health_Pickup      0.169166    0.014541    0.009478         NaN          NaN   \n",
      "Switch_Enabled          NaN         NaN         NaN         NaN          NaN   \n",
      "Quiz_Start        -0.018193    0.060989   -0.176501         NaN          NaN   \n",
      "Correct_Ans       -0.018193    0.060989   -0.176501         NaN          NaN   \n",
      "Wrong_Ans          0.028628   -0.095968    0.115856         NaN          NaN   \n",
      "\n",
      "                Key1_Pickup  Key2_Pickup  Key3_Pickup  Health_Pickup  \\\n",
      "Chomper_Kill       0.084411     0.311774     0.351610       0.103911   \n",
      "Spitter_Kill            NaN          NaN          NaN            NaN   \n",
      "Spike_Hit               NaN          NaN          NaN            NaN   \n",
      "Spitter_Hit        0.264766     0.068425    -0.031759       0.308110   \n",
      "Chomper_Hit        0.150843     0.182759     0.290080       0.169166   \n",
      "Death_Fall         0.017437     0.034679    -0.024681       0.014541   \n",
      "Death_Acid         0.088649     0.094935     0.164086       0.009478   \n",
      "Column_Des              NaN          NaN          NaN            NaN   \n",
      "Box_Pushed              NaN          NaN          NaN            NaN   \n",
      "Key1_Pickup        1.000000     0.893529     0.578486       0.084600   \n",
      "Key2_Pickup        0.893529     1.000000     0.775164       0.120181   \n",
      "Key3_Pickup        0.578486     0.775164     1.000000       0.051320   \n",
      "Health_Pickup      0.084600     0.120181     0.051320       1.000000   \n",
      "Switch_Enabled          NaN          NaN          NaN            NaN   \n",
      "Quiz_Start         0.030415     0.342776     0.421897       0.143726   \n",
      "Correct_Ans        0.030415     0.342776     0.421897       0.143726   \n",
      "Wrong_Ans         -0.031212    -0.002299     0.061851       0.076157   \n",
      "\n",
      "                Switch_Enabled  Quiz_Start  Correct_Ans  Wrong_Ans  \n",
      "Chomper_Kill               NaN    0.447086     0.447086   0.152935  \n",
      "Spitter_Kill               NaN         NaN          NaN        NaN  \n",
      "Spike_Hit                  NaN         NaN          NaN        NaN  \n",
      "Spitter_Hit                NaN   -0.147544    -0.147544   0.048323  \n",
      "Chomper_Hit                NaN   -0.018193    -0.018193   0.028628  \n",
      "Death_Fall                 NaN    0.060989     0.060989  -0.095968  \n",
      "Death_Acid                 NaN   -0.176501    -0.176501   0.115856  \n",
      "Column_Des                 NaN         NaN          NaN        NaN  \n",
      "Box_Pushed                 NaN         NaN          NaN        NaN  \n",
      "Key1_Pickup                NaN    0.030415     0.030415  -0.031212  \n",
      "Key2_Pickup                NaN    0.342776     0.342776  -0.002299  \n",
      "Key3_Pickup                NaN    0.421897     0.421897   0.061851  \n",
      "Health_Pickup              NaN    0.143726     0.143726   0.076157  \n",
      "Switch_Enabled             NaN         NaN          NaN        NaN  \n",
      "Quiz_Start                 NaN    1.000000     1.000000   0.080059  \n",
      "Correct_Ans                NaN    1.000000     1.000000   0.080059  \n",
      "Wrong_Ans                  NaN    0.080059     0.080059   1.000000  \n"
     ]
    }
   ],
   "source": [
    "corrMatrix = dataset.corr()\n",
    "print (corrMatrix)"
   ]
  },
  {
   "cell_type": "code",
   "execution_count": 27,
   "metadata": {},
   "outputs": [],
   "source": [
    "from sklearn.cluster import AgglomerativeClustering\n",
    "import scipy.cluster.hierarchy as sch"
   ]
  },
  {
   "cell_type": "code",
   "execution_count": 28,
   "metadata": {},
   "outputs": [
    {
     "name": "stdout",
     "output_type": "stream",
     "text": [
      "[1 1 1 0 1 1 1 1 1 1 0 0 1 1 1 1 1 0 1 1 1 1 1 1 1 0 1 1 1 1 1 1 0 1 1 1 1\n",
      " 1 1 1 1 1 1 1 1 1 1 1 1 1 1 1 1 1 1 1 0 1 1 1 1 1 1 1 1 1 1 1 1 1 0 1 1 0\n",
      " 0 1 1 1 1 1 1 1 1 0 1 1 1 1 1 1 1 1 1 1 1 1]\n"
     ]
    }
   ],
   "source": [
    "model = AgglomerativeClustering(n_clusters=2, affinity='euclidean', linkage='ward')\n",
    "model.fit(X_scaled)\n",
    "labels = model.labels_\n",
    "\n",
    "print(labels)"
   ]
  },
  {
   "cell_type": "code",
   "execution_count": 29,
   "metadata": {},
   "outputs": [
    {
     "data": {
      "text/plain": [
       "<matplotlib.collections.PathCollection at 0xec00160>"
      ]
     },
     "execution_count": 29,
     "metadata": {},
     "output_type": "execute_result"
    },
    {
     "data": {
      "image/png": "[encoded data removed]",
      "text/plain": [
       "<Figure size 432x288 with 1 Axes>"
      ]
     },
     "metadata": {},
     "output_type": "display_data"
    }
   ],
   "source": [
    "plt.scatter(X_scaled[labels==0, 0], X_scaled[labels==0, 1], s=50, marker='o', color='red')\n",
    "plt.scatter(X_scaled[labels==1, 0], X_scaled[labels==1, 1], s=50, marker='o', color='blue')"
   ]
  },
  {
   "cell_type": "code",
   "execution_count": 30,
   "metadata": {},
   "outputs": [
    {
     "data": {
      "image/png": "[encoded data removed]",
      "text/plain": [
       "<Figure size 432x288 with 1 Axes>"
      ]
     },
     "metadata": {},
     "output_type": "display_data"
    }
   ],
   "source": [
    "dendrogram = sch.dendrogram(sch.linkage(X_scaled, method='ward'))"
   ]
  },
  {
   "cell_type": "code",
   "execution_count": 31,
   "metadata": {},
   "outputs": [],
   "source": [
    " classe=[1, 1, 1, 0, 1, 1, 1, 1, 1, 1, 0, 0, 1, 1, 1, 1, 1, 0, 1, 1, 1, 1, 1, 1, 1, 0, 1, 1, 1, 1, 1, 1, 0, 1, 1, 1, 1, 1, 1, 1, 1, 1, 1, 1, 1, 1, 1, 1, 1, 1, 1, 1, 1, 1, 1, 1, 0, 1, 1, 1, 1, 1, 1, 1, 1, 1, 1, 1, 1, 1, 0, 1, 1, 0, 0, 1, 1, 1, 1, 1, 1, 1, 1, 0, 1, 1, 1, 1, 1, 1, 1, 1, 1, 1, 1, 1]\n",
    "dataset['Classe'] = classe\n",
    "dataset.to_csv(r'C:\\Users\\sofiane\\Desktop\\Master project/LVL5(MEDIUM)_Classified.csv', index = None, header=True)"
   ]
  },
  {
   "cell_type": "code",
   "execution_count": null,
   "metadata": {},
   "outputs": [],
   "source": []
  }
 ],
 "metadata": {
  "kernelspec": {
   "display_name": "Python 2",
   "language": "python",
   "name": "python2"
  },
  "language_info": {
   "codemirror_mode": {
    "name": "ipython",
    "version": 2
   },
   "file_extension": ".py",
   "mimetype": "text/x-python",
   "name": "python",
   "nbconvert_exporter": "python",
   "pygments_lexer": "ipython2",
   "version": "2.7.16"
  }
 },
 "nbformat": 4,
 "nbformat_minor": 2
}
