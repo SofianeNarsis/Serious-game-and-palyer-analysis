{
 "cells": [
  {
   "cell_type": "code",
   "execution_count": 31,
   "metadata": {},
   "outputs": [],
   "source": [
    "%matplotlib inline\n",
    "import matplotlib.pyplot as plt\n",
    "import seaborn as sns; sns.set()  # for plot styling\n",
    "import numpy as np"
   ]
  },
  {
   "cell_type": "code",
   "execution_count": 32,
   "metadata": {},
   "outputs": [
    {
     "data": {
      "text/html": [
       "<div>\n",
       "<style scoped>\n",
       "    .dataframe tbody tr th:only-of-type {\n",
       "        vertical-align: middle;\n",
       "    }\n",
       "\n",
       "    .dataframe tbody tr th {\n",
       "        vertical-align: top;\n",
       "    }\n",
       "\n",
       "    .dataframe thead th {\n",
       "        text-align: right;\n",
       "    }\n",
       "</style>\n",
       "<table border=\"1\" class=\"dataframe\">\n",
       "  <thead>\n",
       "    <tr style=\"text-align: right;\">\n",
       "      <th></th>\n",
       "      <th>Chomper_Kill</th>\n",
       "      <th>Spitter_Kill</th>\n",
       "      <th>Spike_Hit</th>\n",
       "      <th>Spitter_Hit</th>\n",
       "      <th>Chomper_Hit</th>\n",
       "      <th>Death_Fall</th>\n",
       "      <th>Death_Acid</th>\n",
       "      <th>Column_Des</th>\n",
       "      <th>Box_Pushed</th>\n",
       "      <th>Key1_Pickup</th>\n",
       "      <th>Key2_Pickup</th>\n",
       "      <th>Key3_Pickup</th>\n",
       "      <th>Health_Pickup</th>\n",
       "      <th>Switch_Enabled</th>\n",
       "      <th>Quiz_Start</th>\n",
       "      <th>Correct_Ans</th>\n",
       "      <th>Wrong_Ans</th>\n",
       "    </tr>\n",
       "  </thead>\n",
       "  <tbody>\n",
       "    <tr>\n",
       "      <th>0</th>\n",
       "      <td>5</td>\n",
       "      <td>0</td>\n",
       "      <td>0</td>\n",
       "      <td>0</td>\n",
       "      <td>0</td>\n",
       "      <td>2</td>\n",
       "      <td>0</td>\n",
       "      <td>1</td>\n",
       "      <td>0</td>\n",
       "      <td>1</td>\n",
       "      <td>1</td>\n",
       "      <td>1</td>\n",
       "      <td>0</td>\n",
       "      <td>1</td>\n",
       "      <td>1</td>\n",
       "      <td>3</td>\n",
       "      <td>0</td>\n",
       "    </tr>\n",
       "    <tr>\n",
       "      <th>1</th>\n",
       "      <td>4</td>\n",
       "      <td>0</td>\n",
       "      <td>1</td>\n",
       "      <td>0</td>\n",
       "      <td>0</td>\n",
       "      <td>1</td>\n",
       "      <td>0</td>\n",
       "      <td>1</td>\n",
       "      <td>0</td>\n",
       "      <td>1</td>\n",
       "      <td>1</td>\n",
       "      <td>1</td>\n",
       "      <td>0</td>\n",
       "      <td>1</td>\n",
       "      <td>1</td>\n",
       "      <td>3</td>\n",
       "      <td>1</td>\n",
       "    </tr>\n",
       "    <tr>\n",
       "      <th>2</th>\n",
       "      <td>2</td>\n",
       "      <td>0</td>\n",
       "      <td>2</td>\n",
       "      <td>0</td>\n",
       "      <td>1</td>\n",
       "      <td>0</td>\n",
       "      <td>0</td>\n",
       "      <td>1</td>\n",
       "      <td>0</td>\n",
       "      <td>1</td>\n",
       "      <td>1</td>\n",
       "      <td>0</td>\n",
       "      <td>0</td>\n",
       "      <td>1</td>\n",
       "      <td>0</td>\n",
       "      <td>0</td>\n",
       "      <td>0</td>\n",
       "    </tr>\n",
       "    <tr>\n",
       "      <th>3</th>\n",
       "      <td>3</td>\n",
       "      <td>0</td>\n",
       "      <td>2</td>\n",
       "      <td>0</td>\n",
       "      <td>1</td>\n",
       "      <td>0</td>\n",
       "      <td>0</td>\n",
       "      <td>1</td>\n",
       "      <td>0</td>\n",
       "      <td>1</td>\n",
       "      <td>1</td>\n",
       "      <td>0</td>\n",
       "      <td>0</td>\n",
       "      <td>1</td>\n",
       "      <td>0</td>\n",
       "      <td>0</td>\n",
       "      <td>0</td>\n",
       "    </tr>\n",
       "    <tr>\n",
       "      <th>4</th>\n",
       "      <td>5</td>\n",
       "      <td>0</td>\n",
       "      <td>1</td>\n",
       "      <td>0</td>\n",
       "      <td>1</td>\n",
       "      <td>0</td>\n",
       "      <td>0</td>\n",
       "      <td>1</td>\n",
       "      <td>0</td>\n",
       "      <td>1</td>\n",
       "      <td>1</td>\n",
       "      <td>1</td>\n",
       "      <td>0</td>\n",
       "      <td>1</td>\n",
       "      <td>1</td>\n",
       "      <td>3</td>\n",
       "      <td>1</td>\n",
       "    </tr>\n",
       "  </tbody>\n",
       "</table>\n",
       "</div>"
      ],
      "text/plain": [
       "   Chomper_Kill  Spitter_Kill  Spike_Hit  Spitter_Hit  Chomper_Hit  \\\n",
       "0             5             0          0            0            0   \n",
       "1             4             0          1            0            0   \n",
       "2             2             0          2            0            1   \n",
       "3             3             0          2            0            1   \n",
       "4             5             0          1            0            1   \n",
       "\n",
       "   Death_Fall  Death_Acid  Column_Des  Box_Pushed  Key1_Pickup  Key2_Pickup  \\\n",
       "0           2           0           1           0            1            1   \n",
       "1           1           0           1           0            1            1   \n",
       "2           0           0           1           0            1            1   \n",
       "3           0           0           1           0            1            1   \n",
       "4           0           0           1           0            1            1   \n",
       "\n",
       "   Key3_Pickup  Health_Pickup  Switch_Enabled  Quiz_Start  Correct_Ans  \\\n",
       "0            1              0               1           1            3   \n",
       "1            1              0               1           1            3   \n",
       "2            0              0               1           0            0   \n",
       "3            0              0               1           0            0   \n",
       "4            1              0               1           1            3   \n",
       "\n",
       "   Wrong_Ans  \n",
       "0          0  \n",
       "1          1  \n",
       "2          0  \n",
       "3          0  \n",
       "4          1  "
      ]
     },
     "execution_count": 32,
     "metadata": {},
     "output_type": "execute_result"
    }
   ],
   "source": [
    "import pandas as pd \n",
    "# Read data from file 'filename.csv' \n",
    "# (in the same directory that your python process is based)\n",
    "# Control delimiters, rows, column names with read_csv (see later) \n",
    "dataset = pd.read_csv(\"LVL9 (HARD).csv\",header=0, delimiter=';') \n",
    "dataset.head()"
   ]
  },
  {
   "cell_type": "code",
   "execution_count": 33,
   "metadata": {},
   "outputs": [
    {
     "data": {
      "text/plain": [
       "Index([u'Chomper_Kill', u'Spitter_Kill', u'Spike_Hit', u'Spitter_Hit',\n",
       "       u'Chomper_Hit', u'Death_Fall', u'Death_Acid', u'Column_Des',\n",
       "       u'Box_Pushed', u'Key1_Pickup', u'Key2_Pickup', u'Key3_Pickup',\n",
       "       u'Health_Pickup', u'Switch_Enabled', u'Quiz_Start', u'Correct_Ans',\n",
       "       u'Wrong_Ans'],\n",
       "      dtype='object')"
      ]
     },
     "execution_count": 33,
     "metadata": {},
     "output_type": "execute_result"
    }
   ],
   "source": [
    "# selection des colonnes à prendre en compte dans l'ACP\n",
    "from sklearn import preprocessing\n",
    "X_dataset = dataset[[\"Chomper_Kill\",\"Spike_Hit\",\"Death_Fall\",\"Column_Des\",\"Chomper_Hit\",\"Key1_Pickup\",\"Key2_Pickup\",\"Key3_Pickup\",\"Switch_Enabled\",\"Quiz_Start\",\"Correct_Ans\",\"Wrong_Ans\"]]\n",
    "features = dataset.columns\n",
    "# normalize the data attributes\n",
    "normalized_d = preprocessing.normalize(X_dataset)\n",
    "standardized_X = preprocessing.scale(normalized_d)\n",
    "features"
   ]
  },
  {
   "cell_type": "code",
   "execution_count": 34,
   "metadata": {},
   "outputs": [
    {
     "name": "stdout",
     "output_type": "stream",
     "text": [
      "[[0.75377836 0.         0.30151134 ... 0.15075567 0.45226702 0.        ]\n",
      " [0.68599434 0.17149859 0.17149859 ... 0.17149859 0.51449576 0.17149859]\n",
      " [0.5547002  0.5547002  0.         ... 0.         0.         0.        ]\n",
      " ...\n",
      " [0.70710678 0.         0.         ... 0.1767767  0.53033009 0.1767767 ]\n",
      " [0.69337525 0.13867505 0.41602515 ... 0.13867505 0.41602515 0.13867505]\n",
      " [0.57735027 0.         0.57735027 ... 0.         0.         0.        ]]\n"
     ]
    }
   ],
   "source": [
    "print(normalized_d)\n",
    "# Centrage et Réduction\n",
    "std_scale = preprocessing.StandardScaler().fit(standardized_X)\n",
    "X_scaled = std_scale.transform(standardized_X)"
   ]
  },
  {
   "cell_type": "code",
   "execution_count": 35,
   "metadata": {},
   "outputs": [
    {
     "name": "stdout",
     "output_type": "stream",
     "text": [
      "[[-1.93712892  1.28565174  1.60768897  1.12888059  0.77653706 -0.88604306\n",
      "  -1.91378331 -2.67301405  0.20592911 -2.13304211 -2.37768666 -0.8633286 ]\n",
      " [ 0.25068727 -0.16637846 -0.20805387 -0.14609043 -0.10049303  0.1146644\n",
      "   0.24766608  0.34591947 -0.02664965  0.27604074  0.30770063  0.11172488]]\n",
      "[1 1 0 0 1 1 1 1 1 0 1 1 1 0 1 1 1 1 1 1 1 1 1 1 1 1 1 1 1 1 1 1 1 1 1 1 1\n",
      " 1 1 1 1 1 1 1 1 1 1 1 1 1 1 1 1 0 1 1 0 1 1 1 1 1 1 1 1 1 1 1 1 1 1 1 1 1\n",
      " 1 1 0 1 1 1 0 1 1 0 1 1 1 1 1 1 0 1 1 1 1 0]\n"
     ]
    }
   ],
   "source": [
    "from sklearn.cluster import KMeans\n",
    "kmeans = KMeans(2,'k-means++',500,10,0)\n",
    "kmeans.fit(X_scaled)\n",
    "print(kmeans.cluster_centers_)\n",
    "print(kmeans.labels_)"
   ]
  },
  {
   "cell_type": "code",
   "execution_count": 36,
   "metadata": {},
   "outputs": [
    {
     "data": {
      "text/plain": [
       "<matplotlib.collections.PathCollection at 0xe8132b0>"
      ]
     },
     "execution_count": 36,
     "metadata": {},
     "output_type": "execute_result"
    },
    {
     "data": {
      "image/png": "[encoded data removed]",
      "text/plain": [
       "<Figure size 432x288 with 1 Axes>"
      ]
     },
     "metadata": {},
     "output_type": "display_data"
    }
   ],
   "source": [
    "plt.scatter(X_scaled[:,0],X_scaled[:,1], c=kmeans.labels_, cmap='rainbow')\n",
    "plt.scatter(kmeans.cluster_centers_[:,0] ,kmeans.cluster_centers_[:,1], color='black')"
   ]
  },
  {
   "cell_type": "code",
   "execution_count": 19,
   "metadata": {},
   "outputs": [
    {
     "name": "stdout",
     "output_type": "stream",
     "text": [
      "                Chomper_Kill  Spitter_Kill  Spike_Hit  Spitter_Hit  \\\n",
      "Chomper_Kill        1.000000           NaN  -0.141640          NaN   \n",
      "Spitter_Kill             NaN           NaN        NaN          NaN   \n",
      "Spike_Hit          -0.141640           NaN   1.000000          NaN   \n",
      "Spitter_Hit              NaN           NaN        NaN          NaN   \n",
      "Chomper_Hit        -0.045188           NaN  -0.054568          NaN   \n",
      "Death_Fall         -0.215358           NaN  -0.181342          NaN   \n",
      "Death_Acid               NaN           NaN        NaN          NaN   \n",
      "Column_Des          0.326854           NaN   0.022706          NaN   \n",
      "Box_Pushed               NaN           NaN        NaN          NaN   \n",
      "Key1_Pickup         0.638553           NaN  -0.081340          NaN   \n",
      "Key2_Pickup         0.775926           NaN  -0.058373          NaN   \n",
      "Key3_Pickup         0.812588           NaN  -0.217232          NaN   \n",
      "Health_Pickup            NaN           NaN        NaN          NaN   \n",
      "Switch_Enabled      0.535485           NaN   0.022706          NaN   \n",
      "Quiz_Start          0.803130           NaN  -0.248628          NaN   \n",
      "Correct_Ans         0.789448           NaN  -0.263538          NaN   \n",
      "Wrong_Ans           0.208016           NaN  -0.025279          NaN   \n",
      "\n",
      "                Chomper_Hit  Death_Fall  Death_Acid  Column_Des  Box_Pushed  \\\n",
      "Chomper_Kill      -0.045188   -0.215358         NaN    0.326854         NaN   \n",
      "Spitter_Kill            NaN         NaN         NaN         NaN         NaN   \n",
      "Spike_Hit         -0.054568   -0.181342         NaN    0.022706         NaN   \n",
      "Spitter_Hit             NaN         NaN         NaN         NaN         NaN   \n",
      "Chomper_Hit        1.000000   -0.052843         NaN    0.135450         NaN   \n",
      "Death_Fall        -0.052843    1.000000         NaN   -0.082890         NaN   \n",
      "Death_Acid              NaN         NaN         NaN         NaN         NaN   \n",
      "Column_Des         0.135450   -0.082890         NaN    1.000000         NaN   \n",
      "Box_Pushed              NaN         NaN         NaN         NaN         NaN   \n",
      "Key1_Pickup        0.057644   -0.209928         NaN    0.352495         NaN   \n",
      "Key2_Pickup       -0.045766   -0.358234         NaN    0.290616         NaN   \n",
      "Key3_Pickup       -0.115932   -0.235767         NaN    0.252309         NaN   \n",
      "Health_Pickup           NaN         NaN         NaN         NaN         NaN   \n",
      "Switch_Enabled    -0.050310   -0.190424         NaN    0.478261         NaN   \n",
      "Quiz_Start        -0.176852   -0.196576         NaN    0.222174         NaN   \n",
      "Correct_Ans       -0.204869   -0.209920         NaN    0.209240         NaN   \n",
      "Wrong_Ans         -0.056587    0.047057         NaN    0.100039         NaN   \n",
      "\n",
      "                Key1_Pickup  Key2_Pickup  Key3_Pickup  Health_Pickup  \\\n",
      "Chomper_Kill       0.638553     0.775926     0.812588            NaN   \n",
      "Spitter_Kill            NaN          NaN          NaN            NaN   \n",
      "Spike_Hit         -0.081340    -0.058373    -0.217232            NaN   \n",
      "Spitter_Hit             NaN          NaN          NaN            NaN   \n",
      "Chomper_Hit        0.057644    -0.045766    -0.115932            NaN   \n",
      "Death_Fall        -0.209928    -0.358234    -0.235767            NaN   \n",
      "Death_Acid              NaN          NaN          NaN            NaN   \n",
      "Column_Des         0.352495     0.290616     0.252309            NaN   \n",
      "Box_Pushed              NaN          NaN          NaN            NaN   \n",
      "Key1_Pickup        1.000000     0.746039     0.669853            NaN   \n",
      "Key2_Pickup        0.746039     1.000000     0.894077            NaN   \n",
      "Key3_Pickup        0.669853     0.894077     1.000000            NaN   \n",
      "Health_Pickup           NaN          NaN          NaN            NaN   \n",
      "Switch_Enabled     0.549236     0.648298     0.579628            NaN   \n",
      "Quiz_Start         0.496690     0.708255     0.813403            NaN   \n",
      "Correct_Ans        0.587121     0.778403     0.870622            NaN   \n",
      "Wrong_Ans          0.225732     0.273776     0.306211            NaN   \n",
      "\n",
      "                Switch_Enabled  Quiz_Start  Correct_Ans  Wrong_Ans  \n",
      "Chomper_Kill          0.535485    0.803130     0.789448   0.208016  \n",
      "Spitter_Kill               NaN         NaN          NaN        NaN  \n",
      "Spike_Hit             0.022706   -0.248628    -0.263538  -0.025279  \n",
      "Spitter_Hit                NaN         NaN          NaN        NaN  \n",
      "Chomper_Hit          -0.050310   -0.176852    -0.204869  -0.056587  \n",
      "Death_Fall           -0.190424   -0.196576    -0.209920   0.047057  \n",
      "Death_Acid                 NaN         NaN          NaN        NaN  \n",
      "Column_Des            0.478261    0.222174     0.209240   0.100039  \n",
      "Box_Pushed                 NaN         NaN          NaN        NaN  \n",
      "Key1_Pickup           0.549236    0.496690     0.587121   0.225732  \n",
      "Key2_Pickup           0.648298    0.708255     0.778403   0.273776  \n",
      "Key3_Pickup           0.579628    0.813403     0.870622   0.306211  \n",
      "Health_Pickup              NaN         NaN          NaN        NaN  \n",
      "Switch_Enabled        1.000000    0.526870     0.504637   0.177489  \n",
      "Quiz_Start            0.526870    1.000000     0.957802   0.336874  \n",
      "Correct_Ans           0.504637    0.957802     1.000000   0.351716  \n",
      "Wrong_Ans             0.177489    0.336874     0.351716   1.000000  \n"
     ]
    }
   ],
   "source": [
    "corrMatrix = dataset.corr()\n",
    "print (corrMatrix)"
   ]
  },
  {
   "cell_type": "code",
   "execution_count": 25,
   "metadata": {},
   "outputs": [],
   "source": [
    "from sklearn.cluster import AgglomerativeClustering\n",
    "import scipy.cluster.hierarchy as sch"
   ]
  },
  {
   "cell_type": "code",
   "execution_count": 27,
   "metadata": {},
   "outputs": [
    {
     "name": "stdout",
     "output_type": "stream",
     "text": [
      "[0 0 0 0 0 0 0 0 0 1 0 0 0 1 0 0 0 0 0 0 0 0 0 0 0 0 0 0 0 0 0 0 0 0 0 0 0\n",
      " 0 0 0 0 0 0 0 0 0 0 0 0 0 0 0 0 1 0 0 1 0 0 0 0 0 0 0 0 0 0 0 0 0 0 0 0 0\n",
      " 0 0 1 0 0 0 1 0 0 1 0 0 0 0 0 0 1 0 0 0 0 1]\n"
     ]
    }
   ],
   "source": [
    "model = AgglomerativeClustering(n_clusters=2, affinity='euclidean', linkage='ward')\n",
    "model.fit(X_scaled)\n",
    "labels = model.labels_\n",
    "\n",
    "print(labels)\n"
   ]
  },
  {
   "cell_type": "code",
   "execution_count": 28,
   "metadata": {},
   "outputs": [
    {
     "data": {
      "text/plain": [
       "<matplotlib.collections.PathCollection at 0xe769be0>"
      ]
     },
     "execution_count": 28,
     "metadata": {},
     "output_type": "execute_result"
    },
    {
     "data": {
      "image/png": "[encoded data removed]",
      "text/plain": [
       "<Figure size 432x288 with 1 Axes>"
      ]
     },
     "metadata": {},
     "output_type": "display_data"
    }
   ],
   "source": [
    "plt.scatter(X_scaled[labels==0, 0], X_scaled[labels==0, 1], s=50, marker='o', color='red')\n",
    "plt.scatter(X_scaled[labels==1, 0], X_scaled[labels==1, 1], s=50, marker='o', color='blue')"
   ]
  },
  {
   "cell_type": "code",
   "execution_count": 30,
   "metadata": {},
   "outputs": [
    {
     "data": {
      "image/png": "[encoded data removed]",
      "text/plain": [
       "<Figure size 432x288 with 1 Axes>"
      ]
     },
     "metadata": {},
     "output_type": "display_data"
    }
   ],
   "source": [
    "dendrogram = sch.dendrogram(sch.linkage(X_scaled, method='ward'))"
   ]
  },
  {
   "cell_type": "code",
   "execution_count": 37,
   "metadata": {},
   "outputs": [],
   "source": [
    "classe=[1, 1, 0, 0, 1, 1, 1, 1, 1, 0, 1, 1, 1, 0, 1, 1, 1, 1, 1, 1, 1, 1, 1, 1, 1, 1, 1, 1, 1, 1, 1, 1, 1, 1, 1, 1, 1, 1, 1, 1, 1, 1, 1, 1, 1, 1, 1, 1, 1, 1, 1, 1, 1, 0, 1, 1, 0, 1, 1, 1, 1, 1, 1, 1, 1, 1, 1, 1, 1, 1, 1, 1, 1, 1, 1, 1, 0, 1, 1, 1, 0, 1, 1, 0, 1, 1, 1, 1, 1, 1, 0, 1, 1, 1, 1, 0]\n",
    "dataset['Classe'] = classe\n",
    "dataset.to_csv(r'C:\\Users\\sofiane\\Desktop\\Master project/LVL9(HARD)_Classified.csv', index = None, header=True)"
   ]
  },
  {
   "cell_type": "code",
   "execution_count": null,
   "metadata": {},
   "outputs": [],
   "source": []
  }
 ],
 "metadata": {
  "kernelspec": {
   "display_name": "Python 2",
   "language": "python",
   "name": "python2"
  },
  "language_info": {
   "codemirror_mode": {
    "name": "ipython",
    "version": 2
   },
   "file_extension": ".py",
   "mimetype": "text/x-python",
   "name": "python",
   "nbconvert_exporter": "python",
   "pygments_lexer": "ipython2",
   "version": "2.7.16"
  }
 },
 "nbformat": 4,
 "nbformat_minor": 2
}
