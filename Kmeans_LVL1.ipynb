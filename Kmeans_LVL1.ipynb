{
 "cells": [
  {
   "cell_type": "code",
   "execution_count": 6,
   "metadata": {},
   "outputs": [],
   "source": [
    "%matplotlib inline\n",
    "import matplotlib.pyplot as plt\n",
    "import seaborn as sns; sns.set()  # for plot styling\n",
    "import numpy as np"
   ]
  },
  {
   "cell_type": "code",
   "execution_count": 7,
   "metadata": {},
   "outputs": [
    {
     "data": {
      "text/html": [
       "<div>\n",
       "<style scoped>\n",
       "    .dataframe tbody tr th:only-of-type {\n",
       "        vertical-align: middle;\n",
       "    }\n",
       "\n",
       "    .dataframe tbody tr th {\n",
       "        vertical-align: top;\n",
       "    }\n",
       "\n",
       "    .dataframe thead th {\n",
       "        text-align: right;\n",
       "    }\n",
       "</style>\n",
       "<table border=\"1\" class=\"dataframe\">\n",
       "  <thead>\n",
       "    <tr style=\"text-align: right;\">\n",
       "      <th></th>\n",
       "      <th>Chomper_Kill</th>\n",
       "      <th>Spitter_Kill</th>\n",
       "      <th>Spike_Hit</th>\n",
       "      <th>Death_Fall</th>\n",
       "      <th>Death_Acid</th>\n",
       "      <th>Spitter_Hit</th>\n",
       "      <th>Chomper_Hit</th>\n",
       "      <th>Column_Des</th>\n",
       "      <th>Health_Pickup</th>\n",
       "      <th>Switch_Enabled</th>\n",
       "      <th>Box_Pushed</th>\n",
       "      <th>Key1_Pickup</th>\n",
       "      <th>Key2_Pickup</th>\n",
       "      <th>Key3_Pickup</th>\n",
       "      <th>Quiz_Start</th>\n",
       "      <th>Correct_Ans</th>\n",
       "      <th>Wrong_Ans</th>\n",
       "    </tr>\n",
       "  </thead>\n",
       "  <tbody>\n",
       "    <tr>\n",
       "      <th>0</th>\n",
       "      <td>0</td>\n",
       "      <td>3</td>\n",
       "      <td>0</td>\n",
       "      <td>0</td>\n",
       "      <td>1</td>\n",
       "      <td>0</td>\n",
       "      <td>0</td>\n",
       "      <td>1</td>\n",
       "      <td>0</td>\n",
       "      <td>1</td>\n",
       "      <td>0</td>\n",
       "      <td>1</td>\n",
       "      <td>1</td>\n",
       "      <td>1</td>\n",
       "      <td>1</td>\n",
       "      <td>3</td>\n",
       "      <td>0</td>\n",
       "    </tr>\n",
       "    <tr>\n",
       "      <th>1</th>\n",
       "      <td>0</td>\n",
       "      <td>3</td>\n",
       "      <td>1</td>\n",
       "      <td>0</td>\n",
       "      <td>0</td>\n",
       "      <td>0</td>\n",
       "      <td>0</td>\n",
       "      <td>1</td>\n",
       "      <td>0</td>\n",
       "      <td>1</td>\n",
       "      <td>0</td>\n",
       "      <td>1</td>\n",
       "      <td>1</td>\n",
       "      <td>1</td>\n",
       "      <td>1</td>\n",
       "      <td>3</td>\n",
       "      <td>0</td>\n",
       "    </tr>\n",
       "    <tr>\n",
       "      <th>2</th>\n",
       "      <td>0</td>\n",
       "      <td>3</td>\n",
       "      <td>2</td>\n",
       "      <td>0</td>\n",
       "      <td>0</td>\n",
       "      <td>0</td>\n",
       "      <td>0</td>\n",
       "      <td>1</td>\n",
       "      <td>0</td>\n",
       "      <td>1</td>\n",
       "      <td>0</td>\n",
       "      <td>1</td>\n",
       "      <td>1</td>\n",
       "      <td>1</td>\n",
       "      <td>1</td>\n",
       "      <td>3</td>\n",
       "      <td>0</td>\n",
       "    </tr>\n",
       "    <tr>\n",
       "      <th>3</th>\n",
       "      <td>0</td>\n",
       "      <td>3</td>\n",
       "      <td>1</td>\n",
       "      <td>0</td>\n",
       "      <td>1</td>\n",
       "      <td>0</td>\n",
       "      <td>0</td>\n",
       "      <td>1</td>\n",
       "      <td>0</td>\n",
       "      <td>1</td>\n",
       "      <td>0</td>\n",
       "      <td>1</td>\n",
       "      <td>1</td>\n",
       "      <td>1</td>\n",
       "      <td>1</td>\n",
       "      <td>3</td>\n",
       "      <td>0</td>\n",
       "    </tr>\n",
       "    <tr>\n",
       "      <th>4</th>\n",
       "      <td>0</td>\n",
       "      <td>6</td>\n",
       "      <td>2</td>\n",
       "      <td>0</td>\n",
       "      <td>1</td>\n",
       "      <td>0</td>\n",
       "      <td>0</td>\n",
       "      <td>1</td>\n",
       "      <td>0</td>\n",
       "      <td>1</td>\n",
       "      <td>0</td>\n",
       "      <td>1</td>\n",
       "      <td>1</td>\n",
       "      <td>1</td>\n",
       "      <td>1</td>\n",
       "      <td>3</td>\n",
       "      <td>0</td>\n",
       "    </tr>\n",
       "  </tbody>\n",
       "</table>\n",
       "</div>"
      ],
      "text/plain": [
       "   Chomper_Kill  Spitter_Kill  Spike_Hit  Death_Fall  Death_Acid  Spitter_Hit  \\\n",
       "0             0             3          0           0           1            0   \n",
       "1             0             3          1           0           0            0   \n",
       "2             0             3          2           0           0            0   \n",
       "3             0             3          1           0           1            0   \n",
       "4             0             6          2           0           1            0   \n",
       "\n",
       "   Chomper_Hit  Column_Des  Health_Pickup  Switch_Enabled  Box_Pushed   \\\n",
       "0            0           1              0               1            0   \n",
       "1            0           1              0               1            0   \n",
       "2            0           1              0               1            0   \n",
       "3            0           1              0               1            0   \n",
       "4            0           1              0               1            0   \n",
       "\n",
       "   Key1_Pickup  Key2_Pickup  Key3_Pickup  Quiz_Start  Correct_Ans  Wrong_Ans  \n",
       "0            1            1            1           1            3          0  \n",
       "1            1            1            1           1            3          0  \n",
       "2            1            1            1           1            3          0  \n",
       "3            1            1            1           1            3          0  \n",
       "4            1            1            1           1            3          0  "
      ]
     },
     "execution_count": 7,
     "metadata": {},
     "output_type": "execute_result"
    }
   ],
   "source": [
    "import pandas as pd \n",
    "# Read data from file 'filename.csv' \n",
    "# (in the same directory that your python process is based)\n",
    "# Control delimiters, rows, column names with read_csv (see later) \n",
    "dataset = pd.read_csv(\"LVL1 (EASY).csv\",header=0, delimiter=';') \n",
    "dataset.head()"
   ]
  },
  {
   "cell_type": "code",
   "execution_count": 8,
   "metadata": {},
   "outputs": [
    {
     "data": {
      "text/plain": [
       "Index([u'Chomper_Kill', u'Spitter_Kill', u'Spike_Hit', u'Death_Fall',\n",
       "       u'Death_Acid', u'Spitter_Hit', u'Chomper_Hit', u'Column_Des',\n",
       "       u'Health_Pickup', u'Switch_Enabled', u'Box_Pushed ', u'Key1_Pickup',\n",
       "       u'Key2_Pickup', u'Key3_Pickup', u'Quiz_Start', u'Correct_Ans',\n",
       "       u'Wrong_Ans'],\n",
       "      dtype='object')"
      ]
     },
     "execution_count": 8,
     "metadata": {},
     "output_type": "execute_result"
    }
   ],
   "source": [
    "# selection des colonnes à prendre en compte dans l'ACP\n",
    "from sklearn import preprocessing\n",
    "X_dataset = dataset[[\"Spitter_Kill\",\"Spike_Hit\",\"Death_Fall\",\"Death_Acid\",\"Column_Des\",\"Spitter_Hit\",\"Key1_Pickup\",\"Key2_Pickup\",\"Key3_Pickup\",\"Switch_Enabled\",\"Quiz_Start\",\"Correct_Ans\",\"Wrong_Ans\"]]\n",
    "features = dataset.columns\n",
    "# normalize the data attributes\n",
    "normalized_d = preprocessing.normalize(X_dataset)\n",
    "standardized_X = preprocessing.scale(normalized_d)\n",
    "features"
   ]
  },
  {
   "cell_type": "code",
   "execution_count": 9,
   "metadata": {},
   "outputs": [
    {
     "name": "stdout",
     "output_type": "stream",
     "text": [
      "[[0.6        0.         0.         ... 0.2        0.6        0.        ]\n",
      " [0.6        0.2        0.         ... 0.2        0.6        0.        ]\n",
      " [0.56694671 0.37796447 0.         ... 0.18898224 0.56694671 0.        ]\n",
      " ...\n",
      " [0.61237244 0.         0.         ... 0.20412415 0.61237244 0.        ]\n",
      " [0.6        0.         0.         ... 0.2        0.6        0.2       ]\n",
      " [0.61237244 0.         0.         ... 0.20412415 0.61237244 0.        ]]\n"
     ]
    }
   ],
   "source": [
    "print(normalized_d)\n",
    "# Centrage et Réduction\n",
    "std_scale = preprocessing.StandardScaler().fit(standardized_X)\n",
    "X_scaled = std_scale.transform(standardized_X)"
   ]
  },
  {
   "cell_type": "code",
   "execution_count": 10,
   "metadata": {},
   "outputs": [
    {
     "name": "stdout",
     "output_type": "stream",
     "text": [
      "[[ 3.39956286  0.37261157  0.47526059  1.23988472 -3.77731087  0.91874172\n",
      "  -0.12505316 -1.43163138 -3.77731087 -3.77731087 -3.77731087 -3.59363941\n",
      "   0.20269974]\n",
      " [-0.18678917 -0.02047316 -0.02611322 -0.06812553  0.20754455 -0.05048031\n",
      "   0.00687105  0.07866106  0.20754455  0.20754455  0.20754455  0.19745271\n",
      "  -0.01113735]]\n",
      "[1 1 1 1 0 1 1 1 1 1 0 1 1 1 1 1 1 0 1 1 1 1 1 1 1 1 1 1 1 1 1 1 1 1 1 1 1\n",
      " 1 1 1 1 1 1 1 1 1 1 1 1 1 1 1 1 1 1 1 1 1 1 1 1 1 1 1 1 1 1 1 1 1 1 1 1 1\n",
      " 1 1 1 1 1 1 1 1 1 1 0 0 1 1 1 1 1 1 1 1 1 1]\n"
     ]
    }
   ],
   "source": [
    "from sklearn.cluster import KMeans\n",
    "kmeans = KMeans(2,'k-means++',500,10,0)\n",
    "kmeans.fit(X_scaled)\n",
    "print(kmeans.cluster_centers_)\n",
    "print(kmeans.labels_)"
   ]
  },
  {
   "cell_type": "code",
   "execution_count": 11,
   "metadata": {},
   "outputs": [
    {
     "data": {
      "text/plain": [
       "<matplotlib.collections.PathCollection at 0xd262208>"
      ]
     },
     "execution_count": 11,
     "metadata": {},
     "output_type": "execute_result"
    },
    {
     "data": {
      "image/png": "[encoded data removed]",
      "text/plain": [
       "<Figure size 432x288 with 1 Axes>"
      ]
     },
     "metadata": {},
     "output_type": "display_data"
    }
   ],
   "source": [
    "plt.scatter(X_scaled[:,0],X_scaled[:,1], c=kmeans.labels_, cmap='rainbow')\n",
    "plt.scatter(kmeans.cluster_centers_[:,0] ,kmeans.cluster_centers_[:,1], color='black')"
   ]
  },
  {
   "cell_type": "code",
   "execution_count": 11,
   "metadata": {},
   "outputs": [
    {
     "name": "stdout",
     "output_type": "stream",
     "text": [
      "                Chomper_Kill  Spitter_Kill  Spike_Hit  Death_Fall  Death_Acid  \\\n",
      "Chomper_Kill             NaN           NaN        NaN         NaN         NaN   \n",
      "Spitter_Kill             NaN      1.000000   0.184578    0.183531    0.526983   \n",
      "Spike_Hit                NaN      0.184578   1.000000   -0.234978    0.081399   \n",
      "Death_Fall               NaN      0.183531  -0.234978    1.000000    0.064150   \n",
      "Death_Acid               NaN      0.526983   0.081399    0.064150    1.000000   \n",
      "Spitter_Hit              NaN      0.219133  -0.089742   -0.020101    0.073499   \n",
      "Chomper_Hit              NaN           NaN        NaN         NaN         NaN   \n",
      "Column_Des               NaN      0.459786  -0.061095    0.321182    0.238416   \n",
      "Health_Pickup            NaN           NaN        NaN         NaN         NaN   \n",
      "Switch_Enabled           NaN      0.459786  -0.061095    0.321182    0.238416   \n",
      "Box_Pushed               NaN           NaN        NaN         NaN         NaN   \n",
      "Key1_Pickup              NaN      0.385555   0.018064    0.314485    0.286474   \n",
      "Key2_Pickup              NaN      0.427505  -0.106952    0.240966    0.417365   \n",
      "Key3_Pickup              NaN      0.459786  -0.061095    0.321182    0.238416   \n",
      "Quiz_Start               NaN      0.459786  -0.061095    0.321182    0.238416   \n",
      "Correct_Ans              NaN      0.619481  -0.082315    0.267885    0.321224   \n",
      "Wrong_Ans                NaN      0.189766  -0.148343    0.221809    0.016418   \n",
      "\n",
      "                Spitter_Hit  Chomper_Hit  Column_Des  Health_Pickup  \\\n",
      "Chomper_Kill            NaN          NaN         NaN            NaN   \n",
      "Spitter_Kill       0.219133          NaN    0.459786            NaN   \n",
      "Spike_Hit         -0.089742          NaN   -0.061095            NaN   \n",
      "Death_Fall        -0.020101          NaN    0.321182            NaN   \n",
      "Death_Acid         0.073499          NaN    0.238416            NaN   \n",
      "Spitter_Hit        1.000000          NaN   -0.041503            NaN   \n",
      "Chomper_Hit             NaN          NaN         NaN            NaN   \n",
      "Column_Des        -0.041503          NaN    1.000000            NaN   \n",
      "Health_Pickup           NaN          NaN         NaN            NaN   \n",
      "Switch_Enabled    -0.041503          NaN    1.000000            NaN   \n",
      "Box_Pushed              NaN          NaN         NaN            NaN   \n",
      "Key1_Pickup        0.309748          NaN    0.437697            NaN   \n",
      "Key2_Pickup        0.185671          NaN    0.571241            NaN   \n",
      "Key3_Pickup       -0.041503          NaN    1.000000            NaN   \n",
      "Quiz_Start        -0.041503          NaN    1.000000            NaN   \n",
      "Correct_Ans        0.142901          NaN    0.893490            NaN   \n",
      "Wrong_Ans          0.221212          NaN    0.129174            NaN   \n",
      "\n",
      "                Switch_Enabled  Box_Pushed   Key1_Pickup  Key2_Pickup  \\\n",
      "Chomper_Kill               NaN          NaN          NaN          NaN   \n",
      "Spitter_Kill          0.459786          NaN     0.385555     0.427505   \n",
      "Spike_Hit            -0.061095          NaN     0.018064    -0.106952   \n",
      "Death_Fall            0.321182          NaN     0.314485     0.240966   \n",
      "Death_Acid            0.238416          NaN     0.286474     0.417365   \n",
      "Spitter_Hit          -0.041503          NaN     0.309748     0.185671   \n",
      "Chomper_Hit                NaN          NaN          NaN          NaN   \n",
      "Column_Des            1.000000          NaN     0.437697     0.571241   \n",
      "Health_Pickup              NaN          NaN          NaN          NaN   \n",
      "Switch_Enabled        1.000000          NaN     0.437697     0.571241   \n",
      "Box_Pushed                 NaN          NaN          NaN          NaN   \n",
      "Key1_Pickup           0.437697          NaN     1.000000     0.766222   \n",
      "Key2_Pickup           0.571241          NaN     0.766222     1.000000   \n",
      "Key3_Pickup           1.000000          NaN     0.437697     0.571241   \n",
      "Quiz_Start            1.000000          NaN     0.437697     0.571241   \n",
      "Correct_Ans           0.893490          NaN     0.382346     0.504822   \n",
      "Wrong_Ans             0.129174          NaN     0.209268     0.226128   \n",
      "\n",
      "                Key3_Pickup  Quiz_Start  Correct_Ans  Wrong_Ans  \n",
      "Chomper_Kill            NaN         NaN          NaN        NaN  \n",
      "Spitter_Kill       0.459786    0.459786     0.619481   0.189766  \n",
      "Spike_Hit         -0.061095   -0.061095    -0.082315  -0.148343  \n",
      "Death_Fall         0.321182    0.321182     0.267885   0.221809  \n",
      "Death_Acid         0.238416    0.238416     0.321224   0.016418  \n",
      "Spitter_Hit       -0.041503   -0.041503     0.142901   0.221212  \n",
      "Chomper_Hit             NaN         NaN          NaN        NaN  \n",
      "Column_Des         1.000000    1.000000     0.893490   0.129174  \n",
      "Health_Pickup           NaN         NaN          NaN        NaN  \n",
      "Switch_Enabled     1.000000    1.000000     0.893490   0.129174  \n",
      "Box_Pushed              NaN         NaN          NaN        NaN  \n",
      "Key1_Pickup        0.437697    0.437697     0.382346   0.209268  \n",
      "Key2_Pickup        0.571241    0.571241     0.504822   0.226128  \n",
      "Key3_Pickup        1.000000    1.000000     0.893490   0.129174  \n",
      "Quiz_Start         1.000000    1.000000     0.893490   0.129174  \n",
      "Correct_Ans        0.893490    0.893490     1.000000   0.258421  \n",
      "Wrong_Ans          0.129174    0.129174     0.258421   1.000000  \n"
     ]
    }
   ],
   "source": [
    "corrMatrix = dataset.corr()\n",
    "print (corrMatrix)"
   ]
  },
  {
   "cell_type": "code",
   "execution_count": 12,
   "metadata": {},
   "outputs": [],
   "source": [
    "from sklearn.cluster import AgglomerativeClustering\n",
    "import scipy.cluster.hierarchy as sch\n"
   ]
  },
  {
   "cell_type": "code",
   "execution_count": 13,
   "metadata": {},
   "outputs": [
    {
     "name": "stdout",
     "output_type": "stream",
     "text": [
      "[1 1 1 1 0 1 1 1 1 1 0 1 1 1 1 1 1 0 1 1 1 1 1 1 1 1 1 1 1 1 1 1 1 1 1 1 1\n",
      " 1 1 1 1 1 1 1 1 1 1 1 1 1 1 1 1 1 1 1 0 1 1 1 1 1 1 1 1 1 1 1 1 1 1 1 1 1\n",
      " 1 1 1 1 1 1 1 1 1 1 0 0 1 1 1 1 1 1 0 1 1 1]\n"
     ]
    }
   ],
   "source": [
    "model = AgglomerativeClustering(n_clusters=2, affinity='euclidean', linkage='ward')\n",
    "model.fit(X_scaled)\n",
    "labels = model.labels_\n",
    "\n",
    "print(labels)"
   ]
  },
  {
   "cell_type": "code",
   "execution_count": 15,
   "metadata": {},
   "outputs": [
    {
     "data": {
      "text/plain": [
       "<matplotlib.collections.PathCollection at 0xdab3240>"
      ]
     },
     "execution_count": 15,
     "metadata": {},
     "output_type": "execute_result"
    },
    {
     "data": {
      "image/png": "[encoded data removed]",
      "text/plain": [
       "<Figure size 432x288 with 1 Axes>"
      ]
     },
     "metadata": {
      "needs_background": "light"
     },
     "output_type": "display_data"
    }
   ],
   "source": [
    "plt.scatter(X_scaled[labels==0, 0], X_scaled[labels==0, 1], s=50, marker='o', color='yellow')\n",
    "plt.scatter(X_scaled[labels==1, 0], X_scaled[labels==1, 1], s=50, marker='o', color='green')"
   ]
  },
  {
   "cell_type": "code",
   "execution_count": 16,
   "metadata": {},
   "outputs": [
    {
     "data": {
      "image/png": "[encoded data removed]",
      "text/plain": [
       "<Figure size 432x288 with 1 Axes>"
      ]
     },
     "metadata": {
      "needs_background": "light"
     },
     "output_type": "display_data"
    }
   ],
   "source": [
    "dendrogram = sch.dendrogram(sch.linkage(X_scaled, method='ward'))"
   ]
  },
  {
   "cell_type": "code",
   "execution_count": 20,
   "metadata": {},
   "outputs": [],
   "source": [
    "classe=[1, 1, 1, 1, 0, 1, 1, 1, 1, 1, 0, 1, 1, 1, 1, 1, 1, 0, 1, 1, 1, 1, 1, 1, 1, 1, 1, 1, 1, 1, 1, 1, 1, 1, 1, 1, 1,1, 1, 1, 1, 1, 1, 1, 1, 1, 1, 1, 1, 1, 1, 1, 1, 1, 1, 1, 0, 1, 1, 1, 1, 1, 1, 1, 1, 1, 1, 1, 1, 1, 1, 1, 1, 1,1, 1, 1, 1, 1, 1, 1, 1, 1, 1, 0, 0, 1, 1, 1, 1, 1, 1, 0, 1, 1, 1]\n",
    "dataset['Classe'] = classe\n",
    "dataset.to_csv(r'C:\\Users\\sofiane\\Desktop\\Master project/LVL1(EASY)_Classified.csv', index = None, header=True)"
   ]
  },
  {
   "cell_type": "code",
   "execution_count": null,
   "metadata": {},
   "outputs": [],
   "source": []
  }
 ],
 "metadata": {
  "kernelspec": {
   "display_name": "Python 2",
   "language": "python",
   "name": "python2"
  },
  "language_info": {
   "codemirror_mode": {
    "name": "ipython",
    "version": 2
   },
   "file_extension": ".py",
   "mimetype": "text/x-python",
   "name": "python",
   "nbconvert_exporter": "python",
   "pygments_lexer": "ipython2",
   "version": "2.7.16"
  }
 },
 "nbformat": 4,
 "nbformat_minor": 2
}
